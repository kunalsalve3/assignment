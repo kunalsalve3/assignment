{
 "cells": [
  {
   "cell_type": "raw",
   "id": "a4fb751e-30d5-4637-97d0-ae11a599a99f",
   "metadata": {},
   "source": [
    "Que1 : Which keyword is used to create a function? Create a function to return a list of odd numbers in the\n",
    "range of 1 to 25."
   ]
  },
  {
   "cell_type": "raw",
   "id": "c3b88f87-9c99-4adb-8dd8-d77792e21981",
   "metadata": {},
   "source": [
    "def keyword is to create a function"
   ]
  },
  {
   "cell_type": "code",
   "execution_count": 6,
   "id": "448dde25-de2f-4d6e-b9f9-f189047ec33e",
   "metadata": {},
   "outputs": [],
   "source": [
    "def odd_numbers(list1):\n",
    "    list2 = []\n",
    "    for num in list1:\n",
    "        if num % 2 !=0:\n",
    "            list2.append(num)\n",
    "    return list2"
   ]
  },
  {
   "cell_type": "code",
   "execution_count": 3,
   "id": "6a9a3bd7-1021-4de2-9b68-01e7b38ff0c6",
   "metadata": {},
   "outputs": [],
   "source": [
    "l1 = list(range(1,25))"
   ]
  },
  {
   "cell_type": "code",
   "execution_count": 7,
   "id": "be2ffab4-e40f-49e9-b707-c79be56c743f",
   "metadata": {},
   "outputs": [
    {
     "data": {
      "text/plain": [
       "[1, 3, 5, 7, 9, 11, 13, 15, 17, 19, 21, 23]"
      ]
     },
     "execution_count": 7,
     "metadata": {},
     "output_type": "execute_result"
    }
   ],
   "source": [
    "odd_numbers(l1)"
   ]
  },
  {
   "cell_type": "code",
   "execution_count": null,
   "id": "ec10bd18-99f3-487f-bc63-75453b0c0a0e",
   "metadata": {},
   "outputs": [],
   "source": []
  },
  {
   "cell_type": "raw",
   "id": "dd6a5f66-14a5-4e0c-9755-5622318a061c",
   "metadata": {},
   "source": [
    "Que 2 : Why *args and **kwargs is used in some functions? Create a function each for *args and **kwargs\n",
    "to demonstrate their use."
   ]
  },
  {
   "cell_type": "markdown",
   "id": "9ad41f4b-6584-4eb8-9db7-482959477b71",
   "metadata": {},
   "source": [
    "*args: this allows us to handle more arguments then specified\n",
    "\n",
    "\n",
    "**kwargs: this allows us to handle named arguments that we dont defined."
   ]
  },
  {
   "cell_type": "code",
   "execution_count": 9,
   "id": "7d487199-5dca-4eec-88dd-7cf3cbe6425e",
   "metadata": {},
   "outputs": [],
   "source": [
    "def sum_all(*args):\n",
    "    return sum(args)"
   ]
  },
  {
   "cell_type": "code",
   "execution_count": 10,
   "id": "dd1c243c-0ff2-4f09-89f8-2a3970ae234b",
   "metadata": {},
   "outputs": [
    {
     "name": "stdout",
     "output_type": "stream",
     "text": [
      "15\n"
     ]
    }
   ],
   "source": [
    "result = sum_all(1, 2, 3, 4, 5)\n",
    "print(result)"
   ]
  },
  {
   "cell_type": "code",
   "execution_count": 12,
   "id": "bec1b8fd-6346-4bc1-8ac1-74f9581bce7e",
   "metadata": {},
   "outputs": [],
   "source": [
    "def print_kwargs(**kwargs):\n",
    "    for key, value in kwargs.items():\n",
    "        print(f\"{key}: {value}\")"
   ]
  },
  {
   "cell_type": "code",
   "execution_count": 13,
   "id": "868b5f17-ac60-4cbe-afb0-b032fba41b2a",
   "metadata": {},
   "outputs": [
    {
     "name": "stdout",
     "output_type": "stream",
     "text": [
      "a: 12\n",
      "b: [1, 2, 'kunal', 56]\n"
     ]
    }
   ],
   "source": [
    "print_kwargs(a= 12, b = [1,2,'kunal',56])"
   ]
  },
  {
   "cell_type": "code",
   "execution_count": null,
   "id": "1ac11632-d73c-4cd6-8bf8-2f78c0eefd50",
   "metadata": {},
   "outputs": [],
   "source": []
  },
  {
   "cell_type": "raw",
   "id": "dc76dfce-daad-4c78-bba9-781e5bd3a862",
   "metadata": {},
   "source": [
    "Q3. What is an iterator in python? Name the method used to initialise the iterator object and the method\n",
    "used for iteration. Use these methods to print the first five elements of the given list [2, 4, 6, 8, 10, 12, 14,\n",
    "16, 18, 20]."
   ]
  },
  {
   "cell_type": "raw",
   "id": "52638889-82f5-49d2-b153-a77696f503c8",
   "metadata": {},
   "source": [
    "An iterator is an object that can be iterated upon, meaning that you can traverse through all the values.\n",
    "\n",
    "method are iter() and next()"
   ]
  },
  {
   "cell_type": "code",
   "execution_count": 18,
   "id": "045d2cc8-6bdc-4451-9024-eddd4005aefb",
   "metadata": {},
   "outputs": [
    {
     "name": "stdout",
     "output_type": "stream",
     "text": [
      "2\n",
      "4\n",
      "6\n",
      "8\n",
      "10\n"
     ]
    }
   ],
   "source": [
    "numbers = [2, 4, 6, 8, 10, 12, 14, 16, 18, 20]\n",
    "\n",
    "iterator = iter(numbers)\n",
    "\n",
    "for i in range(5):\n",
    "    print(next(iterator))"
   ]
  },
  {
   "cell_type": "code",
   "execution_count": null,
   "id": "8c47100d-ade3-4f35-8761-50cb53ce7e1f",
   "metadata": {},
   "outputs": [],
   "source": []
  },
  {
   "cell_type": "raw",
   "id": "5d363901-5329-4581-b601-08a3efc1de35",
   "metadata": {},
   "source": [
    "Q4. What is a generator function in python? Why yield keyword is used? Give an example of a generator\n",
    "function."
   ]
  },
  {
   "cell_type": "raw",
   "id": "639c5642-d446-4c06-bbf1-e542ec4aec4c",
   "metadata": {},
   "source": [
    "A Generator is a function that returns an iterator using the Yield keyword.\n",
    "\n",
    "The yield keyword is used to return a list of values from a function"
   ]
  },
  {
   "cell_type": "code",
   "execution_count": 6,
   "id": "3bb70b32-8579-477b-a657-da54a35be670",
   "metadata": {},
   "outputs": [],
   "source": [
    "def find_even(n):\n",
    "    for i in range(n):\n",
    "        if i % 2 ==0:\n",
    "            yield i"
   ]
  },
  {
   "cell_type": "code",
   "execution_count": 13,
   "id": "34e47768-7b09-4623-ba57-cd69c5352e34",
   "metadata": {},
   "outputs": [],
   "source": [
    "even  = find_even(5)"
   ]
  },
  {
   "cell_type": "code",
   "execution_count": 14,
   "id": "bef0aadb-41dd-4128-993e-b41d886a43ae",
   "metadata": {},
   "outputs": [
    {
     "name": "stdout",
     "output_type": "stream",
     "text": [
      "0\n",
      "2\n",
      "4\n"
     ]
    }
   ],
   "source": [
    "for number in even:\n",
    "    print(number)"
   ]
  },
  {
   "cell_type": "code",
   "execution_count": null,
   "id": "6c0a3731-34b4-4934-b551-4a7490a02a60",
   "metadata": {},
   "outputs": [],
   "source": []
  },
  {
   "cell_type": "raw",
   "id": "aa4d0b11-c373-42a7-af29-ce5fc7019d6f",
   "metadata": {},
   "source": [
    "Q5. Create a generator function for prime numbers less than 1000. Use the next() method to print the\n",
    "first 20 prime numbers."
   ]
  },
  {
   "cell_type": "code",
   "execution_count": 17,
   "id": "5b50604e-0b54-4b16-aa41-c188c9d39619",
   "metadata": {},
   "outputs": [],
   "source": [
    "def gen_prime(limit):\n",
    "    for num in range(2, limit):\n",
    "        for i in range(2, int(num ** 0.5) + 1):\n",
    "            if num % i == 0:\n",
    "                break\n",
    "        else:\n",
    "            yield num"
   ]
  },
  {
   "cell_type": "code",
   "execution_count": 18,
   "id": "b304f179-3742-4ca6-b7da-3d131e085cf1",
   "metadata": {},
   "outputs": [],
   "source": [
    "is_prime = gen_prime(1000)"
   ]
  },
  {
   "cell_type": "code",
   "execution_count": 20,
   "id": "8c1f86bb-99bb-4d14-b594-926866cd5dcd",
   "metadata": {},
   "outputs": [
    {
     "name": "stdout",
     "output_type": "stream",
     "text": [
      "3\n",
      "5\n",
      "7\n",
      "11\n",
      "13\n",
      "17\n",
      "19\n",
      "23\n",
      "29\n",
      "31\n",
      "37\n",
      "41\n",
      "43\n",
      "47\n",
      "53\n",
      "59\n",
      "61\n",
      "67\n",
      "71\n",
      "73\n"
     ]
    }
   ],
   "source": [
    "for i in range(20):\n",
    "    print(next(is_prime))"
   ]
  },
  {
   "cell_type": "raw",
   "id": "37695981-671f-4952-9846-5e910e13944c",
   "metadata": {},
   "source": []
  },
  {
   "cell_type": "raw",
   "id": "a00cc263-aaf8-489a-86c5-0f5a32e00624",
   "metadata": {},
   "source": [
    "Q6. Write a python program to print the first 10 Fibonacci numbers using a while loop."
   ]
  },
  {
   "cell_type": "code",
   "execution_count": 34,
   "id": "e6c3fb8e-6640-4978-9746-2c6609aef62e",
   "metadata": {},
   "outputs": [],
   "source": [
    "def Fibonacci_num(num):\n",
    "    a,b = 0,1\n",
    "    count = 0\n",
    "    while count < num:\n",
    "        print(a)\n",
    "        temp = a + b \n",
    "        a = b        \n",
    "        b = temp     \n",
    "        count += 1"
   ]
  },
  {
   "cell_type": "code",
   "execution_count": 35,
   "id": "7b250789-82f1-4904-b82e-203e2caf48dd",
   "metadata": {},
   "outputs": [
    {
     "name": "stdout",
     "output_type": "stream",
     "text": [
      "0\n",
      "1\n",
      "1\n",
      "2\n",
      "3\n",
      "5\n",
      "8\n",
      "13\n",
      "21\n",
      "34\n"
     ]
    }
   ],
   "source": [
    "Fibonacci_num(10)"
   ]
  },
  {
   "cell_type": "code",
   "execution_count": null,
   "id": "89729f19-791c-416a-a96c-607c4104df55",
   "metadata": {},
   "outputs": [],
   "source": []
  },
  {
   "cell_type": "raw",
   "id": "0d4c718f-d530-40b8-b9e4-53fa13b90474",
   "metadata": {},
   "source": [
    "Q7. Write a List Comprehension to iterate through the given string: ‘pwskills’.\n",
    "Expected output: ['p', 'w', 's', 'k', 'i', 'l', 'l', 's']"
   ]
  },
  {
   "cell_type": "code",
   "execution_count": 36,
   "id": "2b20a787-855f-400f-bb6a-b0dec2c7e36d",
   "metadata": {},
   "outputs": [],
   "source": [
    "s = 'pwskills'"
   ]
  },
  {
   "cell_type": "code",
   "execution_count": 41,
   "id": "da890129-c790-4bda-8992-42d7e65c313b",
   "metadata": {},
   "outputs": [],
   "source": [
    "str_list = [char for char in s]"
   ]
  },
  {
   "cell_type": "code",
   "execution_count": 42,
   "id": "20f1883c-5acc-4f75-b9ff-942eebbc8dc2",
   "metadata": {},
   "outputs": [
    {
     "data": {
      "text/plain": [
       "['p', 'w', 's', 'k', 'i', 'l', 'l', 's']"
      ]
     },
     "execution_count": 42,
     "metadata": {},
     "output_type": "execute_result"
    }
   ],
   "source": [
    "str_list"
   ]
  },
  {
   "cell_type": "code",
   "execution_count": null,
   "id": "db35779c-2bb3-46b1-974e-b414bf4ccef9",
   "metadata": {},
   "outputs": [],
   "source": []
  },
  {
   "cell_type": "raw",
   "id": "f8550f9b-719b-4544-acc7-2dbc3f3b1d36",
   "metadata": {},
   "source": [
    "Q8. Write a python program to check whether a given number is Palindrome or not using a while loop."
   ]
  },
  {
   "cell_type": "code",
   "execution_count": 43,
   "id": "78e955c0-ada0-4e25-a0d4-1cf0a3246c63",
   "metadata": {},
   "outputs": [],
   "source": [
    "def is_palindrome(num):\n",
    "    original_num = num\n",
    "    reversed_num = 0\n",
    "    \n",
    "    while num > 0:\n",
    "        digit = num % 10\n",
    "        reversed_num = reversed_num * 10 + digit\n",
    "        num = num // 10\n",
    "    \n",
    "    return original_num == reversed_num"
   ]
  },
  {
   "cell_type": "code",
   "execution_count": 44,
   "id": "5165cc4a-da21-41a9-a9d5-d729afafa924",
   "metadata": {},
   "outputs": [
    {
     "name": "stdin",
     "output_type": "stream",
     "text": [
      "Enter a number:  100\n"
     ]
    },
    {
     "name": "stdout",
     "output_type": "stream",
     "text": [
      "100 is not a palindrome\n"
     ]
    }
   ],
   "source": [
    "number = int(input(\"Enter a number: \"))\n",
    "if is_palindrome(number):\n",
    "    print(f\"{number} is a palindrome\")\n",
    "else:\n",
    "    print(f\"{number} is not a palindrome\")"
   ]
  },
  {
   "cell_type": "raw",
   "id": "a0b4e44f-4ed5-48ec-bcef-293484ca819c",
   "metadata": {},
   "source": []
  },
  {
   "cell_type": "raw",
   "id": "c2dccf56-5a10-4cf4-a0fe-2d551bf1f892",
   "metadata": {},
   "source": [
    "Q9. Write a code to print odd numbers from 1 to 100 using list comprehension."
   ]
  },
  {
   "cell_type": "code",
   "execution_count": 49,
   "id": "a62d182a-0650-4f1f-9e55-4e8bb7654109",
   "metadata": {},
   "outputs": [],
   "source": [
    "num = range(1,100)"
   ]
  },
  {
   "cell_type": "code",
   "execution_count": 56,
   "id": "6c71ee8c-1c7d-4903-8eab-45e3cfe39931",
   "metadata": {},
   "outputs": [],
   "source": [
    "# l2= []\n",
    "# for i in num:\n",
    "#     if i % 2 !=0:\n",
    "#         l2.append(i)\n",
    "# l2\n",
    "\n",
    "list_odd = [i for i in num if i % 2 !=0]"
   ]
  },
  {
   "cell_type": "code",
   "execution_count": 55,
   "id": "def4f8e1-6595-47d0-9f97-e4a13964cffc",
   "metadata": {},
   "outputs": [
    {
     "data": {
      "text/plain": [
       "[1,\n",
       " 3,\n",
       " 5,\n",
       " 7,\n",
       " 9,\n",
       " 11,\n",
       " 13,\n",
       " 15,\n",
       " 17,\n",
       " 19,\n",
       " 21,\n",
       " 23,\n",
       " 25,\n",
       " 27,\n",
       " 29,\n",
       " 31,\n",
       " 33,\n",
       " 35,\n",
       " 37,\n",
       " 39,\n",
       " 41,\n",
       " 43,\n",
       " 45,\n",
       " 47,\n",
       " 49,\n",
       " 51,\n",
       " 53,\n",
       " 55,\n",
       " 57,\n",
       " 59,\n",
       " 61,\n",
       " 63,\n",
       " 65,\n",
       " 67,\n",
       " 69,\n",
       " 71,\n",
       " 73,\n",
       " 75,\n",
       " 77,\n",
       " 79,\n",
       " 81,\n",
       " 83,\n",
       " 85,\n",
       " 87,\n",
       " 89,\n",
       " 91,\n",
       " 93,\n",
       " 95,\n",
       " 97,\n",
       " 99]"
      ]
     },
     "execution_count": 55,
     "metadata": {},
     "output_type": "execute_result"
    }
   ],
   "source": [
    "list_odd"
   ]
  },
  {
   "cell_type": "code",
   "execution_count": null,
   "id": "8c92fe93-3e16-4826-8512-841a2e17b02b",
   "metadata": {},
   "outputs": [],
   "source": []
  }
 ],
 "metadata": {
  "kernelspec": {
   "display_name": "Python 3 (ipykernel)",
   "language": "python",
   "name": "python3"
  },
  "language_info": {
   "codemirror_mode": {
    "name": "ipython",
    "version": 3
   },
   "file_extension": ".py",
   "mimetype": "text/x-python",
   "name": "python",
   "nbconvert_exporter": "python",
   "pygments_lexer": "ipython3",
   "version": "3.10.8"
  }
 },
 "nbformat": 4,
 "nbformat_minor": 5
}
