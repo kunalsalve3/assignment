{
 "cells": [
  {
   "cell_type": "markdown",
   "id": "a8b585aa-d7b5-4519-b81e-b352d4f2a4ae",
   "metadata": {},
   "source": [
    "Explain Class and Object with respect to Object-Oriented Programming. Give a suitable example."
   ]
  },
  {
   "cell_type": "markdown",
   "id": "53c1add7-7858-467d-8f8f-a917f713181b",
   "metadata": {},
   "source": [
    "Class: A class is a blueprint for creating objects.Classes encapsulate data for the object and methods to manipulate that data."
   ]
  },
  {
   "cell_type": "code",
   "execution_count": 1,
   "id": "32440ffc-82f0-4abf-a55e-d1abe7a15c03",
   "metadata": {},
   "outputs": [],
   "source": [
    "class StudentDept():\n",
    "    def __init__(self,student_id,name):\n",
    "        self.student_id = student_id\n",
    "        self.name = name\n",
    "        \n",
    "    def display_details(self):\n",
    "        print(f\"student_id : {self.student_id}\")\n",
    "        print(f\"name : {self.name}\")"
   ]
  },
  {
   "cell_type": "markdown",
   "id": "7b16cf68-4470-4a30-97ea-38903a4a6929",
   "metadata": {},
   "source": [
    "object : An object is an instance of a class.Objects interact with one another by calling each other's methods."
   ]
  },
  {
   "cell_type": "code",
   "execution_count": 2,
   "id": "fe68e3ba-cd72-4568-849b-6d4f85f85995",
   "metadata": {},
   "outputs": [],
   "source": [
    "student1 = StudentDept(\"1\",\"kunal\")"
   ]
  },
  {
   "cell_type": "code",
   "execution_count": 9,
   "id": "b57ddcb7-a69f-475f-a54c-4ccee1e331df",
   "metadata": {},
   "outputs": [
    {
     "name": "stdout",
     "output_type": "stream",
     "text": [
      "student_id : 1\n",
      "name : kunal\n"
     ]
    }
   ],
   "source": [
    "student1.display_details()"
   ]
  },
  {
   "cell_type": "code",
   "execution_count": null,
   "id": "aa5d22a8-5167-4c58-bc6e-6959739ef854",
   "metadata": {},
   "outputs": [],
   "source": []
  },
  {
   "cell_type": "markdown",
   "id": "fc11a505-7e47-4374-ad16-e0a6b58c830c",
   "metadata": {},
   "source": [
    "Q2. Name the four pillars of OOPs."
   ]
  },
  {
   "cell_type": "markdown",
   "id": "c7aadbde-d0ca-4b65-98c2-0989e4737093",
   "metadata": {},
   "source": [
    "1. Encapsulation\n",
    "2. Inheritance\n",
    "3. Polymorphism\n",
    "4. Abstraction"
   ]
  },
  {
   "cell_type": "code",
   "execution_count": null,
   "id": "bb8cf8af-99d4-4998-aaf0-8925215b55a2",
   "metadata": {},
   "outputs": [],
   "source": []
  },
  {
   "cell_type": "markdown",
   "id": "82baf146-7690-48f5-b589-6005789f7192",
   "metadata": {},
   "source": [
    "Q3. Explain why the __init__() function is used. Give a suitable example."
   ]
  },
  {
   "cell_type": "markdown",
   "id": "2395fc5a-10b0-45e3-b073-f9540a41a3fe",
   "metadata": {},
   "source": [
    "The __init__() function,is also called as the constructor, is used in Python classes to initialize the object attributes when an instance of the class is created."
   ]
  },
  {
   "cell_type": "code",
   "execution_count": 4,
   "id": "bc4c915f-9efe-44ce-95cc-be397a997dd2",
   "metadata": {},
   "outputs": [],
   "source": [
    "class Person:\n",
    "    def __init__(self, name, age):\n",
    "        self.name = name\n",
    "        self.age = age\n",
    "    \n",
    "    def display_details(self):\n",
    "        print(f\"Name: {self.name}\")\n",
    "        print(f\"Age: {self.age}\")"
   ]
  },
  {
   "cell_type": "code",
   "execution_count": 8,
   "id": "9d723d35-3c0a-419c-aa3d-98c9b31439c6",
   "metadata": {},
   "outputs": [],
   "source": [
    "# Creating instances (objects) of the Person class\n",
    "person1 = Person(\"kunal\", 25)"
   ]
  },
  {
   "cell_type": "code",
   "execution_count": 7,
   "id": "1014b474-249d-4dcf-adf9-fa93e1192cd3",
   "metadata": {},
   "outputs": [
    {
     "name": "stdout",
     "output_type": "stream",
     "text": [
      "Name: Alice\n",
      "Age: 25\n"
     ]
    }
   ],
   "source": [
    "person1.display_details()"
   ]
  },
  {
   "cell_type": "code",
   "execution_count": null,
   "id": "cca3f9c9-ab27-4429-8d26-6950e50b7a1f",
   "metadata": {},
   "outputs": [],
   "source": []
  },
  {
   "cell_type": "markdown",
   "id": "c205ffda-ff43-475d-860e-c6dabccb9318",
   "metadata": {},
   "source": [
    "Q4. Why self is used in OOPs?"
   ]
  },
  {
   "cell_type": "markdown",
   "id": "d08a4608-4e36-461f-8d19-8086c8ade315",
   "metadata": {},
   "source": [
    "self is a reference to the instance of the class. It is used to access the attributes and methods of the class within its own methods."
   ]
  },
  {
   "cell_type": "code",
   "execution_count": null,
   "id": "88687451-7975-4071-969d-4318a8d0f680",
   "metadata": {},
   "outputs": [],
   "source": []
  },
  {
   "cell_type": "code",
   "execution_count": null,
   "id": "8ec45c42-f048-4c49-898b-289427b677a0",
   "metadata": {},
   "outputs": [],
   "source": []
  },
  {
   "cell_type": "markdown",
   "id": "afd7e97d-55ec-4f90-b98c-a1fe72bb31b2",
   "metadata": {},
   "source": [
    "Q5. What is inheritance? Give an example for each type of inheritance."
   ]
  },
  {
   "cell_type": "markdown",
   "id": "4c4dc597-6ec5-483c-8810-2976c22050f2",
   "metadata": {},
   "source": [
    "inheritance is a mechanism where a new class is created based on an existing class"
   ]
  },
  {
   "cell_type": "markdown",
   "id": "12138f6c-2c5e-4cdf-b436-57ea63be84e4",
   "metadata": {},
   "source": [
    "Single inheritance occurs when a class inherits from only one superclass."
   ]
  },
  {
   "cell_type": "code",
   "execution_count": 10,
   "id": "b5e61182-246f-46e9-a249-bb4f9a933140",
   "metadata": {},
   "outputs": [],
   "source": [
    "class Animal:\n",
    "    def sound(self):\n",
    "        return \"Some sound\""
   ]
  },
  {
   "cell_type": "code",
   "execution_count": 11,
   "id": "7fae4315-27dd-4c1d-b3f0-8b3724853c6e",
   "metadata": {},
   "outputs": [],
   "source": [
    "class Dog(Animal):\n",
    "    def sound(self):\n",
    "        return \"Woof\""
   ]
  },
  {
   "cell_type": "code",
   "execution_count": 12,
   "id": "9d1376ee-b33b-4227-b8f8-78182cbd40b6",
   "metadata": {},
   "outputs": [
    {
     "name": "stdout",
     "output_type": "stream",
     "text": [
      "Some sound\n"
     ]
    }
   ],
   "source": [
    "animal = Animal()\n",
    "print(animal.sound())"
   ]
  },
  {
   "cell_type": "code",
   "execution_count": 13,
   "id": "b0552697-f5ae-4552-8472-40577fc134b2",
   "metadata": {},
   "outputs": [
    {
     "name": "stdout",
     "output_type": "stream",
     "text": [
      "Woof\n"
     ]
    }
   ],
   "source": [
    "dog = Dog()\n",
    "print(dog.sound())"
   ]
  },
  {
   "cell_type": "markdown",
   "id": "79eaf694-2fce-447b-a3b4-455fbda28fd3",
   "metadata": {},
   "source": [
    "Multiple inheritance occurs when a class inherits from more than one superclass"
   ]
  },
  {
   "cell_type": "code",
   "execution_count": 15,
   "id": "4a253d02-2e43-4332-8ca9-a12ba7ff4368",
   "metadata": {},
   "outputs": [
    {
     "name": "stdout",
     "output_type": "stream",
     "text": [
      "Some sound\n",
      "Feeding milk\n",
      "Woof!\n"
     ]
    }
   ],
   "source": [
    "class Animal:\n",
    "    def sound(self):\n",
    "        return \"Some sound\"\n",
    "\n",
    "class Mammal:\n",
    "    def feed_milk(self):\n",
    "        return \"Feeding milk\"\n",
    "\n",
    "class Dog(Animal, Mammal):\n",
    "    def bark(self):\n",
    "        return \"Woof!\"\n",
    "\n",
    "dog = Dog()\n",
    "print(dog.sound())\n",
    "print(dog.feed_milk())\n",
    "print(dog.bark())"
   ]
  },
  {
   "cell_type": "markdown",
   "id": "af3484af-dbf6-44c7-97eb-896d2e54518f",
   "metadata": {},
   "source": [
    "Multilevel inheritance involves creating a chain of inheritance where one class extends another, and then a third class extends the second class, and so on."
   ]
  },
  {
   "cell_type": "code",
   "execution_count": null,
   "id": "c6353043-99e9-449a-b977-4090031afd83",
   "metadata": {},
   "outputs": [],
   "source": []
  }
 ],
 "metadata": {
  "kernelspec": {
   "display_name": "Python 3 (ipykernel)",
   "language": "python",
   "name": "python3"
  },
  "language_info": {
   "codemirror_mode": {
    "name": "ipython",
    "version": 3
   },
   "file_extension": ".py",
   "mimetype": "text/x-python",
   "name": "python",
   "nbconvert_exporter": "python",
   "pygments_lexer": "ipython3",
   "version": "3.10.8"
  }
 },
 "nbformat": 4,
 "nbformat_minor": 5
}
