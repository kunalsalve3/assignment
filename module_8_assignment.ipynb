{
 "cells": [
  {
   "cell_type": "markdown",
   "id": "cc55222f-624a-48e4-ae1d-90f978f62bfc",
   "metadata": {},
   "source": [
    "Que:Explain with an example each when to use a for loop and a while loop."
   ]
  },
  {
   "cell_type": "markdown",
   "id": "cd2a1907-237f-4f31-bbae-92ee9ad0ad32",
   "metadata": {},
   "source": [
    "Ans: For loop is use when you already know how many times we want execute a statement.\n",
    "eg"
   ]
  },
  {
   "cell_type": "code",
   "execution_count": 2,
   "id": "438a4db6-30dd-4d07-9948-2822648e0613",
   "metadata": {},
   "outputs": [
    {
     "name": "stdout",
     "output_type": "stream",
     "text": [
      "i am learning python\n",
      "i am learning python\n",
      "i am learning python\n",
      "i am learning python\n"
     ]
    }
   ],
   "source": [
    "l1 = [1,2,3,4]\n",
    "\n",
    "for i in l1:\n",
    "    print('i am learning python')"
   ]
  },
  {
   "cell_type": "markdown",
   "id": "2af894bb-10df-42a1-9f7c-04c37b6a938f",
   "metadata": {},
   "source": [
    "While loop when is used when the we want execute statement as long as statement is true.\n",
    "eg."
   ]
  },
  {
   "cell_type": "code",
   "execution_count": 11,
   "id": "c6b65d47-aa5b-4aea-b920-67a5d05f22ff",
   "metadata": {},
   "outputs": [
    {
     "name": "stdout",
     "output_type": "stream",
     "text": [
      "2\n",
      "4\n",
      "6\n",
      "8\n",
      "10\n"
     ]
    }
   ],
   "source": [
    "number = 2 \n",
    "\n",
    "while number <= 10:\n",
    "    print(number)\n",
    "    number += 2"
   ]
  },
  {
   "cell_type": "code",
   "execution_count": null,
   "id": "416113bd-36ce-42ea-9680-721cfbf354d9",
   "metadata": {},
   "outputs": [],
   "source": []
  },
  {
   "cell_type": "raw",
   "id": "e67a583e-dbed-462f-90c9-d8f047273160",
   "metadata": {},
   "source": [
    "Que: Write a python program to print the sum and product of the first 10 natural numbers using for\n",
    "and while loop."
   ]
  },
  {
   "cell_type": "code",
   "execution_count": 16,
   "id": "6347273b-0e6f-4b99-ac45-ec4bba2ee4e6",
   "metadata": {},
   "outputs": [
    {
     "data": {
      "text/plain": [
       "[0, 1, 2, 3, 4, 5, 6, 7, 8, 9]"
      ]
     },
     "execution_count": 16,
     "metadata": {},
     "output_type": "execute_result"
    }
   ],
   "source": [
    "list(range(0, 10))"
   ]
  },
  {
   "cell_type": "code",
   "execution_count": 31,
   "id": "0b3bb933-9d2a-4591-ad9b-c82d8f230575",
   "metadata": {},
   "outputs": [
    {
     "name": "stdout",
     "output_type": "stream",
     "text": [
      " Sum = 55, Product = 3628800\n"
     ]
    }
   ],
   "source": [
    "num = 0\n",
    "product = 1\n",
    "\n",
    "for i in list(range(1, 11)):\n",
    "    num += i\n",
    "    product *= i\n",
    "print(f\" Sum = {num}, Product = {product}\")"
   ]
  },
  {
   "cell_type": "code",
   "execution_count": 32,
   "id": "b2f94273-d047-4aae-9bea-5421782d96bb",
   "metadata": {},
   "outputs": [
    {
     "name": "stdout",
     "output_type": "stream",
     "text": [
      " Sum = 55, Product = 3628800\n"
     ]
    }
   ],
   "source": [
    "num = 0\n",
    "product = 1\n",
    "i = 1\n",
    "\n",
    "while i<=10:\n",
    "    num += i\n",
    "    product *= i\n",
    "    i+=1\n",
    "print(f\" Sum = {num}, Product = {product}\")"
   ]
  },
  {
   "cell_type": "code",
   "execution_count": null,
   "id": "f5ba9ab9-be87-45e2-8f79-86a2d67378f2",
   "metadata": {},
   "outputs": [],
   "source": []
  },
  {
   "cell_type": "raw",
   "id": "0dac0cd7-68ef-42a8-a5ac-eacece7d14e9",
   "metadata": {},
   "source": [
    "Q3. Create a python program to compute the electricity bill for a household.\n",
    "The per-unit charges in rupees are as follows: For the first 100 units, the user will be charged Rs. 4.5 per\n",
    "unit, for the next 100 units, the user will be charged Rs. 6 per unit, and for the next 100 units, the user will\n",
    "be charged Rs. 10 per unit, After 300 units and above the user will be charged Rs. 20 per unit.\n",
    "You are required to take the units of electricity consumed in a month from the user as input.\n",
    "Your program must pass this test case: when the unit of electricity consumed by the user in a month is\n",
    "310, the total electricity bill should be 2250."
   ]
  },
  {
   "cell_type": "code",
   "execution_count": 44,
   "id": "cf9b0b82-7528-4a4d-922f-ea6e78b5400f",
   "metadata": {},
   "outputs": [
    {
     "name": "stdin",
     "output_type": "stream",
     "text": [
      "Enter unit here: 310\n"
     ]
    },
    {
     "name": "stdout",
     "output_type": "stream",
     "text": [
      "2250.0\n"
     ]
    }
   ],
   "source": [
    "unit = float(input(\"Enter unit here:\"))\n",
    "\n",
    "if unit<= 100:\n",
    "    bill = unit * 4.5\n",
    "    print(bill)\n",
    "elif unit <= 200:\n",
    "    bill = (100 * 4.5) + ((unit - 100) * 6)\n",
    "    print(bill)\n",
    "elif unit <= 300:\n",
    "    bill = (100 * 4.5) + (100 * 6) + ((unit - 200) * 10)\n",
    "    print(bill)\n",
    "else:\n",
    "    bill = (100 * 4.5) + (100 * 6) + (100 * 10) + ((unit - 300) * 20)\n",
    "    print(bill)"
   ]
  },
  {
   "cell_type": "code",
   "execution_count": null,
   "id": "f7282f0f-b08c-4a23-bce2-cb444319da04",
   "metadata": {},
   "outputs": [],
   "source": []
  },
  {
   "cell_type": "raw",
   "id": "f9a5df15-b6b2-4583-a629-3d451631e815",
   "metadata": {},
   "source": [
    "Q4. Create a list of numbers from 1 to 100. Use for loop and while loop to calculate the cube of each\n",
    "number and if the cube of that number is divisible by 4 or 5 then append that number in a list and print\n",
    "that list."
   ]
  },
  {
   "cell_type": "code",
   "execution_count": 46,
   "id": "4e9b0535-21a5-4089-8c0f-bbc958e111a0",
   "metadata": {},
   "outputs": [],
   "source": [
    "l = list(range(1, 101))"
   ]
  },
  {
   "cell_type": "code",
   "execution_count": 55,
   "id": "1de1c84b-3cb6-4685-a3c2-f301ba0d1039",
   "metadata": {},
   "outputs": [
    {
     "name": "stdout",
     "output_type": "stream",
     "text": [
      "Using for loop: [2, 4, 5, 6, 8, 10, 12, 14, 15, 16, 18, 20, 22, 24, 25, 26, 28, 30, 32, 34, 35, 36, 38, 40, 42, 44, 45, 46, 48, 50, 52, 54, 55, 56, 58, 60, 62, 64, 65, 66, 68, 70, 72, 74, 75, 76, 78, 80, 82, 84, 85, 86, 88, 90, 92, 94, 95, 96, 98, 100]\n"
     ]
    }
   ],
   "source": [
    "cube_list = []\n",
    "for i in l :\n",
    "    cube = i ** 3\n",
    "    if cube%4 == 0 or cube%5 == 0:\n",
    "        cube_list.append(i)\n",
    "print(\"Using for loop:\", cube_list)"
   ]
  },
  {
   "cell_type": "code",
   "execution_count": 59,
   "id": "19eb5eb4-1a0a-4965-a6ae-0d9898c062bd",
   "metadata": {},
   "outputs": [
    {
     "name": "stdout",
     "output_type": "stream",
     "text": [
      "Using while loop: [2, 4, 5, 6, 8, 10, 12, 14, 15, 16, 18, 20, 22, 24, 25, 26, 28, 30, 32, 34, 35, 36, 38, 40, 42, 44, 45, 46, 48, 50, 52, 54, 55, 56, 58, 60, 62, 64, 65, 66, 68, 70, 72, 74, 75, 76, 78, 80, 82, 84, 85, 86, 88, 90, 92, 94, 95, 96, 98, 100]\n"
     ]
    }
   ],
   "source": [
    "#while loop\n",
    "cube_list = []\n",
    "i = 1\n",
    "while i<=100 :\n",
    "    cube = i ** 3\n",
    "    if cube%4 == 0 or cube%5 == 0:\n",
    "        cube_list.append(i)\n",
    "    i += 1\n",
    "print(\"Using while loop:\", cube_list)"
   ]
  },
  {
   "cell_type": "code",
   "execution_count": null,
   "id": "100ad441-22a0-43d9-85b1-dfee3fb863dd",
   "metadata": {},
   "outputs": [],
   "source": []
  },
  {
   "cell_type": "raw",
   "id": "673322c3-c99d-4571-89a6-adc6fab668f8",
   "metadata": {},
   "source": [
    "Q5 .Write a program to filter count vowels in the below-given string.\n",
    "string = \"I want to become a data scientist\""
   ]
  },
  {
   "cell_type": "code",
   "execution_count": 60,
   "id": "c77bb5eb-bb3b-45d9-8e59-f5568cbc9077",
   "metadata": {},
   "outputs": [],
   "source": [
    "string = \"I want to become a data scientist\""
   ]
  },
  {
   "cell_type": "code",
   "execution_count": 63,
   "id": "7d548d91-7ecc-468d-9d37-209e744a0882",
   "metadata": {},
   "outputs": [
    {
     "name": "stdout",
     "output_type": "stream",
     "text": [
      "The number of vowels in the string is: 12\n"
     ]
    }
   ],
   "source": [
    "vowels = ['a','e','i','o','u','A','E','I','O','U']\n",
    "vowel_count = 0\n",
    "for i in string:\n",
    "    if i in vowels:\n",
    "        vowel_count += 1\n",
    "print(f\"The number of vowels in the string is: {vowel_count}\")"
   ]
  },
  {
   "cell_type": "code",
   "execution_count": null,
   "id": "8005fc02-558e-4421-8ad8-eaab637f3613",
   "metadata": {},
   "outputs": [],
   "source": []
  },
  {
   "cell_type": "code",
   "execution_count": null,
   "id": "30f0ab71-8451-4783-905d-c189e955ff17",
   "metadata": {},
   "outputs": [],
   "source": []
  }
 ],
 "metadata": {
  "kernelspec": {
   "display_name": "Python 3 (ipykernel)",
   "language": "python",
   "name": "python3"
  },
  "language_info": {
   "codemirror_mode": {
    "name": "ipython",
    "version": 3
   },
   "file_extension": ".py",
   "mimetype": "text/x-python",
   "name": "python",
   "nbconvert_exporter": "python",
   "pygments_lexer": "ipython3",
   "version": "3.10.8"
  }
 },
 "nbformat": 4,
 "nbformat_minor": 5
}
