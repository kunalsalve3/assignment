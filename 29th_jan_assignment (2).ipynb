{
 "cells": [
  {
   "cell_type": "markdown",
   "id": "9272e0b4-181b-45d2-8528-e3165550f4d6",
   "metadata": {},
   "source": [
    "Question 1 : who developed python programming language?\n",
    "\n",
    "Answer : guido van rossum"
   ]
  },
  {
   "cell_type": "code",
   "execution_count": null,
   "id": "f7f9c8be-94e1-4c0e-894e-7f45afe119b0",
   "metadata": {},
   "outputs": [],
   "source": []
  },
  {
   "cell_type": "markdown",
   "id": "85451102-737c-4685-b07b-237500289aa5",
   "metadata": {},
   "source": [
    "Question 2: Which type of Programming does Python support?\n",
    "\n",
    "Answer : object oriented "
   ]
  },
  {
   "cell_type": "code",
   "execution_count": null,
   "id": "305a016c-20d3-4a62-b3c7-cb7de4c9e9c0",
   "metadata": {},
   "outputs": [],
   "source": []
  },
  {
   "cell_type": "markdown",
   "id": "50647939-6079-43f4-98eb-1a7f712d8fa2",
   "metadata": {},
   "source": [
    "Question 3: is Python case sensitive when dealing with identifiers?\n",
    "\n",
    "Answer : python is case sensitive when dealing with identifiers"
   ]
  },
  {
   "cell_type": "code",
   "execution_count": null,
   "id": "9a26d109-d972-42b3-bbe8-f92fc6be8ec6",
   "metadata": {},
   "outputs": [],
   "source": []
  },
  {
   "cell_type": "markdown",
   "id": "8e0bcf31-8170-4e96-9a96-879caca9a43d",
   "metadata": {},
   "source": [
    "Question 4: what is correct extension of the python file?\n",
    "\n",
    "Answer : extension of python file is .py"
   ]
  },
  {
   "cell_type": "code",
   "execution_count": null,
   "id": "470e133a-8f64-4b59-8659-c19c556bcbd1",
   "metadata": {},
   "outputs": [],
   "source": []
  },
  {
   "cell_type": "markdown",
   "id": "2dfb8fe8-bdec-434a-81b1-fc2bd675f434",
   "metadata": {},
   "source": [
    "Question 5: is Python code compiled or interpreted?\n",
    "\n",
    "Answer : Yes, python code is compiled or interpreted."
   ]
  },
  {
   "cell_type": "code",
   "execution_count": null,
   "id": "b59f7870-b2b9-4133-bb77-1d61f2729ccc",
   "metadata": {},
   "outputs": [],
   "source": []
  },
  {
   "cell_type": "markdown",
   "id": "81c1b465-d02c-419c-8a48-d63e493a889d",
   "metadata": {},
   "source": [
    "Quetion 6 : Name a few blocks of code used to define in python language?\n",
    "\n",
    "Answer : a module, a function body and a class definition ."
   ]
  },
  {
   "cell_type": "code",
   "execution_count": null,
   "id": "f79be876-29f9-40f6-9c84-50759182c1b0",
   "metadata": {},
   "outputs": [],
   "source": []
  },
  {
   "cell_type": "markdown",
   "id": "278c95ff-fe57-4a79-b8bc-cd13d107ebbd",
   "metadata": {},
   "source": [
    "Question 7 : State a character used to give single-line comments in Python?\n",
    "\n",
    "Answer : # is used for a single-line comments."
   ]
  },
  {
   "cell_type": "code",
   "execution_count": null,
   "id": "dc30298d-8c76-491b-a9dc-5eea5a59af89",
   "metadata": {},
   "outputs": [],
   "source": []
  },
  {
   "cell_type": "markdown",
   "id": "23ce857d-ed21-4129-87eb-7114553aaa24",
   "metadata": {},
   "source": [
    "Question 8: Mention functions which can help us to find the version of python              that we are currently working on ?\n",
    "\n",
    "Answer : sys.version can help us to find  find the version of python              that we are currently working on."
   ]
  },
  {
   "cell_type": "code",
   "execution_count": null,
   "id": "9327f30e-a245-464e-95d6-7435638372e4",
   "metadata": {},
   "outputs": [],
   "source": []
  },
  {
   "cell_type": "markdown",
   "id": "c28c2ba7-20a3-4c28-bfcd-5178760915e3",
   "metadata": {},
   "source": [
    "Question 9: Python supports the creation of anonymous functions at runtime,                using a construct called\n",
    "Answer : lambda"
   ]
  },
  {
   "cell_type": "code",
   "execution_count": null,
   "id": "0cc7d6a2-1bcc-427f-ba23-5878028a2951",
   "metadata": {},
   "outputs": [],
   "source": []
  },
  {
   "cell_type": "markdown",
   "id": "8b78a460-7e87-41b3-8af2-225841ce578e",
   "metadata": {},
   "source": [
    "Question 10 : What does pip stand for python?\n",
    "\n",
    "Answer : pip install Packages"
   ]
  },
  {
   "cell_type": "code",
   "execution_count": null,
   "id": "e1c326a1-9500-4fde-98ee-bdc11df0d985",
   "metadata": {},
   "outputs": [],
   "source": []
  },
  {
   "cell_type": "markdown",
   "id": "ffc8c46c-5701-44c0-98d7-747e9122b639",
   "metadata": {},
   "source": [
    "Question 11 : Mention a few  built-in functions in python?\n",
    "\n",
    "Answer: print(), str(), max(), len(), input(),min(), dict().\n"
   ]
  },
  {
   "cell_type": "code",
   "execution_count": null,
   "id": "8263c366-ccbc-4f19-bee5-1c8bc467e832",
   "metadata": {},
   "outputs": [],
   "source": []
  },
  {
   "cell_type": "markdown",
   "id": "9bd15b6f-5492-4c97-8470-406017835c02",
   "metadata": {},
   "source": [
    "Question 12 :what is maximum possible length of an identifier in python?\n",
    "\n",
    "Answer : 79 characters is maximum possible length of an identifier in python.\n"
   ]
  },
  {
   "cell_type": "code",
   "execution_count": null,
   "id": "44ba91ea-24e0-4588-8350-860836c7c605",
   "metadata": {},
   "outputs": [],
   "source": []
  },
  {
   "cell_type": "markdown",
   "id": "6f8b28bc-29e9-40f2-a0a7-52c9a8a51788",
   "metadata": {},
   "source": [
    "Question 13: What are the benefits of using Python?\n",
    "\n",
    "Answer : \n",
    "easy to understand , \n",
    "Free and open-source ,\n",
    "Productivity has incresed, \n",
    "Interpreted Language,\n",
    "Extensive library,\n",
    "Dynamically Typed,\n",
    "Portability,\n",
    "Supportive community."
   ]
  },
  {
   "cell_type": "code",
   "execution_count": null,
   "id": "9339734c-24b7-47d0-ac4f-cc2480ec7020",
   "metadata": {},
   "outputs": [],
   "source": []
  },
  {
   "cell_type": "markdown",
   "id": "be5b27c7-ec41-45b0-8a18-e836a8e5e85a",
   "metadata": {},
   "source": [
    "Question 14 : How is memory managed in python?\n",
    "\n",
    "Answer : Memory management in Python involves a private heap containing all Python objects and data structures."
   ]
  },
  {
   "cell_type": "code",
   "execution_count": null,
   "id": "f28aeaf5-f88d-449e-9aa6-4ce879885f6a",
   "metadata": {},
   "outputs": [],
   "source": []
  },
  {
   "cell_type": "markdown",
   "id": "57398f67-3422-4df2-9057-762975c24458",
   "metadata": {},
   "source": [
    "Question 15 : How to install Python on windows and set path variables?\n",
    "\n",
    "Answer:- Install Python:\n",
    "1.Downloand python from www.python.org \n",
    "\n",
    "2.click on download tab and then select the windows\n",
    "\n",
    "3.once python file download, open it to install\n",
    "\n",
    "4.click on run to start installation process\n",
    "\n",
    "5.once installation is complete, pop-up box of setup was successful\n",
    "\n",
    "\n",
    "\n",
    "Path will be set for executing Python programs.\n",
    "\n",
    "1.Right click on My Computer and click on properties.\n",
    "\n",
    "2.Click on Advanced System settings\n",
    "\n",
    "3.Click on Environment Variable tab.\n",
    "\n",
    "4.Click on new tab of user variables.\n",
    "\n",
    "5.Write path in variable name\n",
    "\n",
    "6.Copy the path of Python folder\n",
    "\n",
    "7.Paste path of Python in variable value\n",
    "\n",
    "8.Click on OK button \n",
    "\n",
    "9.Click on OK button "
   ]
  },
  {
   "cell_type": "code",
   "execution_count": null,
   "id": "028cf22e-06fb-4eff-8da0-7fcb24eabb84",
   "metadata": {},
   "outputs": [],
   "source": []
  },
  {
   "cell_type": "markdown",
   "id": "00d712a8-f030-4f4f-b1f6-ddcdfcb1c153",
   "metadata": {},
   "source": [
    "Quetion 16 : is indentation required in python?\n",
    "\n",
    "Answer : Yes, indentation required in python."
   ]
  }
 ],
 "metadata": {
  "kernelspec": {
   "display_name": "Python 3 (ipykernel)",
   "language": "python",
   "name": "python3"
  },
  "language_info": {
   "codemirror_mode": {
    "name": "ipython",
    "version": 3
   },
   "file_extension": ".py",
   "mimetype": "text/x-python",
   "name": "python",
   "nbconvert_exporter": "python",
   "pygments_lexer": "ipython3",
   "version": "3.10.8"
  }
 },
 "nbformat": 4,
 "nbformat_minor": 5
}
